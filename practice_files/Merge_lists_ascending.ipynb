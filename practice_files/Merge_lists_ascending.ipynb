{
  "nbformat": 4,
  "nbformat_minor": 0,
  "metadata": {
    "colab": {
      "provenance": [],
      "authorship_tag": "ABX9TyP05EpQi5GFH/6AOEwckvQE",
      "include_colab_link": true
    },
    "kernelspec": {
      "name": "python3",
      "display_name": "Python 3"
    },
    "language_info": {
      "name": "python"
    }
  },
  "cells": [
    {
      "cell_type": "markdown",
      "metadata": {
        "id": "view-in-github",
        "colab_type": "text"
      },
      "source": [
        "<a href=\"https://colab.research.google.com/github/jen4win/100-days-of-code/blob/jen4win-patch-2/practice_files/Merge_lists_ascending.ipynb\" target=\"_parent\"><img src=\"https://colab.research.google.com/assets/colab-badge.svg\" alt=\"Open In Colab\"/></a>"
      ]
    },
    {
      "cell_type": "code",
      "execution_count": 10,
      "metadata": {
        "colab": {
          "base_uri": "https://localhost:8080/"
        },
        "id": "N8un5PvHgfYf",
        "outputId": "d0ee13a0-2548-4183-b4e8-c72b4455161f"
      },
      "outputs": [
        {
          "output_type": "execute_result",
          "data": {
            "text/plain": [
              "[1, 1, 2, 2, 3, 5, 6, 7]"
            ]
          },
          "metadata": {},
          "execution_count": 10
        }
      ],
      "source": [
        "# sorting 2 input arrays of integer values or empty ascending --> without using sort function\n",
        "x = [1,1,2,3,5]\n",
        "y = [2,6,7]\n",
        "output_wish = 1,1,2,2,3,5,6,7\n",
        "\n",
        "def sorting(x: list[int], y: list[int]) -> list[int]:\n",
        "  output = []\n",
        "  i = 0\n",
        "  j = 0\n",
        "  # check elementwise as long as the two lists have the same length\n",
        "  while i < len(x) and j < len(y):\n",
        "    if x[i] <= y[j]:\n",
        "      output.append(x[i])\n",
        "      i += 1\n",
        "    else:\n",
        "      output.append(y[j])\n",
        "      j += 1\n",
        "\n",
        "  # append all remaining elements of the longer list\n",
        "  while i < len(x):\n",
        "    output.append(x[i])\n",
        "    i += 1\n",
        "  while j < len(y):\n",
        "    output.append(y[j])\n",
        "    j += 1\n",
        "  return output\n",
        "\n",
        "sorting(x,y)"
      ]
    },
    {
      "cell_type": "code",
      "source": [
        "sorting(x,y)"
      ],
      "metadata": {
        "colab": {
          "base_uri": "https://localhost:8080/"
        },
        "id": "9WoI5KABijvE",
        "outputId": "8b52bd74-d9cd-442d-d5a1-f8b3e7aed4b3"
      },
      "execution_count": 11,
      "outputs": [
        {
          "output_type": "execute_result",
          "data": {
            "text/plain": [
              "[1, 1, 2, 2, 3, 5, 6, 7]"
            ]
          },
          "metadata": {},
          "execution_count": 11
        }
      ]
    }
  ]
}