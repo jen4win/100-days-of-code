{
  "nbformat": 4,
  "nbformat_minor": 0,
  "metadata": {
    "colab": {
      "provenance": [],
      "authorship_tag": "ABX9TyOOpCJrRwkJ3NuAI764djlh",
      "include_colab_link": true
    },
    "kernelspec": {
      "name": "python3",
      "display_name": "Python 3"
    },
    "language_info": {
      "name": "python"
    }
  },
  "cells": [
    {
      "cell_type": "markdown",
      "metadata": {
        "id": "view-in-github",
        "colab_type": "text"
      },
      "source": [
        "<a href=\"https://colab.research.google.com/github/jen4win/100-days-of-code/blob/master/practice_files/KNN_from_Scratch.ipynb\" target=\"_parent\"><img src=\"https://colab.research.google.com/assets/colab-badge.svg\" alt=\"Open In Colab\"/></a>"
      ]
    },
    {
      "cell_type": "markdown",
      "source": [
        "**KNN from scratch**\n",
        "\n",
        "Applied on the iris example dataset."
      ],
      "metadata": {
        "id": "StU1DNKikCYx"
      }
    },
    {
      "cell_type": "code",
      "source": [
        "import numpy as np"
      ],
      "metadata": {
        "id": "7yKmr51ZlanP"
      },
      "execution_count": null,
      "outputs": []
    },
    {
      "cell_type": "code",
      "execution_count": null,
      "metadata": {
        "id": "oemaDPdIjjco"
      },
      "outputs": [],
      "source": [
        "from sklearn import datasets\n",
        "from sklearn.model_selection import train_test_split\n",
        "from sklearn.preprocessing import StandardScaler"
      ]
    },
    {
      "cell_type": "code",
      "source": [
        "iris = datasets.load_iris()\n",
        "X = iris['data']\n",
        "Y = iris.target\n",
        "\n",
        "# splitting\n",
        "X_train, X_test, y_train, y_test = train_test_split(X,Y, test_size = 0.2)\n",
        "\n",
        "# Preprocessing\n",
        "st = StandardScaler()\n",
        "X_train = st.fit_transform(X_train)\n",
        "X_test = st.transform(X_test)"
      ],
      "metadata": {
        "id": "j3nCI2mlkacg"
      },
      "execution_count": null,
      "outputs": []
    },
    {
      "cell_type": "code",
      "source": [
        "y_train"
      ],
      "metadata": {
        "colab": {
          "base_uri": "https://localhost:8080/"
        },
        "id": "Sh9Q5Plalm7Z",
        "outputId": "c4842188-088d-4ce9-8d14-ca1468d7b9a0"
      },
      "execution_count": null,
      "outputs": [
        {
          "output_type": "execute_result",
          "data": {
            "text/plain": [
              "array([0, 1, 0, 2, 2, 1, 1, 2, 1, 0, 2, 0, 2, 2, 1, 1, 1, 2, 2, 0, 0, 0,\n",
              "       0, 0, 2, 0, 1, 0, 2, 1, 2, 1, 2, 2, 1, 2, 1, 1, 2, 0, 2, 2, 1, 1,\n",
              "       1, 2, 1, 0, 1, 1, 0, 2, 1, 2, 0, 2, 1, 0, 2, 1, 0, 2, 0, 0, 0, 0,\n",
              "       1, 0, 1, 0, 1, 2, 1, 0, 0, 0, 1, 2, 0, 2, 0, 0, 0, 2, 2, 1, 0, 1,\n",
              "       1, 2, 0, 2, 1, 0, 2, 0, 0, 0, 0, 2, 2, 2, 0, 2, 2, 0, 2, 0, 2, 1,\n",
              "       0, 2, 1, 0, 1, 1, 1, 2, 0, 2])"
            ]
          },
          "metadata": {},
          "execution_count": 7
        }
      ]
    },
    {
      "cell_type": "code",
      "source": [
        "# function to calculate distances\n",
        "def euclidean_distance(point, data):\n",
        "  return np.sqrt(np.sum((point-data)**2, axis = 1))"
      ],
      "metadata": {
        "id": "2TBN1EDkj8Ri"
      },
      "execution_count": null,
      "outputs": []
    },
    {
      "cell_type": "code",
      "source": [
        "# function to get the maximum value\n",
        "def max_value(output_values):\n",
        "  prediction = max(set(output_values), key = output_values.count)\n",
        "  return prediction"
      ],
      "metadata": {
        "id": "UjBoZuvEluTR"
      },
      "execution_count": null,
      "outputs": []
    },
    {
      "cell_type": "code",
      "source": [
        "# class for classifier\n",
        "class KNeighborsClassifier():\n",
        "  def __init__(self, k = 5, dist_metric = euclidean_distance):\n",
        "    self.k = k\n",
        "    self.dist_metric = dist_metric\n",
        "\n",
        "  def fit(self, X_train, y_train):\n",
        "    self.X_train = X_train\n",
        "    self.y_train = y_train\n",
        "\n",
        "  def predict(self, X_test):\n",
        "    neighbors = []\n",
        "    for x in X_test:\n",
        "      # calculate distance to every datapoint of train set\n",
        "      distances = self.dist_metric(x, self.X_train)\n",
        "      # make a list only of y-classes, sorted by their distance to my x\n",
        "      y_sorted = [y for _, y in sorted(zip(distances, self.y_train))]\n",
        "      # make a list of the k-nearest neighbors\n",
        "      neighbors.append(y_sorted[:self.k])\n",
        "      # return the most common value of these neighbors\n",
        "      return list(map(max_value, neighbors))\n",
        "\n",
        "  def evaluate(self, X_test, y_test):\n",
        "    y_pred = self.predict(X_test)\n",
        "    accuracy = sum(y_pred == y_test) /len(y_test)\n",
        "    return accuracy"
      ],
      "metadata": {
        "id": "CLyjRkgAmmdc"
      },
      "execution_count": null,
      "outputs": []
    },
    {
      "cell_type": "code",
      "source": [
        "accuracies = []\n",
        "ks = range(1,30)\n",
        "for k in ks:\n",
        "  knn = KNeighborsClassifier(k=k)\n",
        "  knn.fit(X_train, y_train)\n",
        "  accuracy = knn.evaluate(X_test, y_test)\n",
        "  accuracies.append(accuracy)"
      ],
      "metadata": {
        "id": "aQmHHp2MpiMU"
      },
      "execution_count": null,
      "outputs": []
    },
    {
      "cell_type": "code",
      "source": [
        "accuracies"
      ],
      "metadata": {
        "colab": {
          "base_uri": "https://localhost:8080/"
        },
        "id": "BR__Nhwqq3z7",
        "outputId": "283fa74c-ad20-48eb-cd57-278331866797"
      },
      "execution_count": null,
      "outputs": [
        {
          "output_type": "execute_result",
          "data": {
            "text/plain": [
              "[0.4,\n",
              " 0.4,\n",
              " 0.4,\n",
              " 0.4,\n",
              " 0.4,\n",
              " 0.4,\n",
              " 0.4,\n",
              " 0.4,\n",
              " 0.4,\n",
              " 0.4,\n",
              " 0.4,\n",
              " 0.4,\n",
              " 0.4,\n",
              " 0.4,\n",
              " 0.4,\n",
              " 0.4,\n",
              " 0.4,\n",
              " 0.4,\n",
              " 0.4,\n",
              " 0.4,\n",
              " 0.4,\n",
              " 0.4,\n",
              " 0.4,\n",
              " 0.4,\n",
              " 0.4,\n",
              " 0.4,\n",
              " 0.4,\n",
              " 0.4,\n",
              " 0.4]"
            ]
          },
          "metadata": {},
          "execution_count": 24
        }
      ]
    },
    {
      "cell_type": "code",
      "source": [
        "import matplotlib.pyplot as plt\n",
        "\n",
        "fig, ax = plt.subplots()\n",
        "ax.plot(ks, accuracies)\n",
        "ax.set(xlabel = \"k\",\n",
        "       ylabel = \"Accuracy\",\n",
        "       title = \"PErformance of knn\")\n",
        "plt.show()"
      ],
      "metadata": {
        "colab": {
          "base_uri": "https://localhost:8080/",
          "height": 472
        },
        "id": "TzsoioXMqgvg",
        "outputId": "b9f9ab01-3c32-4cd5-db3d-0c704571e6d9"
      },
      "execution_count": null,
      "outputs": [
        {
          "output_type": "display_data",
          "data": {
            "text/plain": [
              "<Figure size 640x480 with 1 Axes>"
            ],
            "image/png": "[encoded data removed]"
          },
          "metadata": {}
        }
      ]
    }
  ]
}